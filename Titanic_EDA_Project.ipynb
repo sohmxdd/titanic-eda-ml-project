{
 "cells": [
  {
   "cell_type": "markdown",
   "id": "1b0376ff",
   "metadata": {},
   "source": [
    "### 📌 Final Observations & Conclusions\n",
    "\n",
    "✅ **Gender Matters**  \n",
    "- Female passengers had a significantly higher survival rate than male passengers.\n",
    "- This supports the “women and children first” evacuation protocol.\n",
    "\n",
    "✅ **Class is a Strong Predictor**  \n",
    "- First-class passengers had the highest survival rate, followed by second class.\n",
    "- Third-class passengers were the least likely to survive, showing the impact of socio-economic status.\n",
    "\n",
    "✅ **Fare & Survival Are Related**  \n",
    "- Passengers who paid higher fares (mostly in first class) had a better chance of survival.\n",
    "- This correlation suggests that wealth influenced access to lifeboats and safety.\n",
    "\n",
    "✅ **Younger Passengers Fared Better**  \n",
    "- Children, especially those under 10, had higher survival rates.\n",
    "- Older age groups had noticeably lower chances of survival.\n",
    "\n",
    "✅ **Gender-Class Interaction**  \n",
    "- Female passengers in first and second class had the highest survival probability.\n",
    "- Males in third class had the lowest—indicating a clear intersection of gender and class.\n",
    "\n",
    "✅ **Feature Correlations Are Insightful**  \n",
    "- Positive correlation between **fare and survival**, and **class and fare**.\n",
    "- Weak or no strong linear correlation between **age and survival**, but trends exist visually.\n",
    "\n",
    "---\n",
    "\n",
    "### 📍 Summary\n",
    "\n",
    "This EDA provides a strong foundation for building predictive models. The patterns observed in class, gender, and fare will be crucial features when training ML algorithms. In the next phase, I’ll be implementing classification models to predict survival using these features.\n",
    "\n"
   ]
  },
  {
   "cell_type": "code",
   "execution_count": null,
   "id": "b5948eb1",
   "metadata": {},
   "outputs": [],
   "source": [
    "import seaborn as sns\n",
    "import pandas as pd\n",
    "import matplotlib.pyplot as plt\n",
    "\n",
    "data = sns.load_dataset('titanic')\n",
    "data.head(20)"
   ]
  },
  {
   "cell_type": "code",
   "execution_count": null,
   "id": "84ef878e",
   "metadata": {},
   "outputs": [],
   "source": [
    "sns.countplot(x=\"class\",data=data)\n",
    "plt.title(\"demograhpic by class\")"
   ]
  },
  {
   "cell_type": "code",
   "execution_count": null,
   "id": "e14c270c",
   "metadata": {},
   "outputs": [],
   "source": [
    "sns.countplot(x=\"sex\",data=data)\n",
    "plt.title(\"count by gender\")"
   ]
  },
  {
   "cell_type": "code",
   "execution_count": null,
   "id": "5ec0c6d5",
   "metadata": {},
   "outputs": [],
   "source": [
    "sns.histplot(data[\"age\"], kde=True)\n",
    "plt.title(\"Age distribution\")"
   ]
  },
  {
   "cell_type": "code",
   "execution_count": null,
   "id": "3c506bd8",
   "metadata": {},
   "outputs": [],
   "source": [
    "sns.violinplot(x='class', y='age', data=data, palette='muted')\n",
    "plt.title('Age Distribution by Class')\n",
    "plt.show()"
   ]
  },
  {
   "cell_type": "code",
   "execution_count": null,
   "id": "ae9a0ebb",
   "metadata": {},
   "outputs": [],
   "source": [
    "sns.countplot(x=\"class\", hue=\"sex\", data=data)\n",
    "plt.title(\"gender distribution by class\")"
   ]
  },
  {
   "cell_type": "code",
   "execution_count": null,
   "id": "2de0e982",
   "metadata": {},
   "outputs": [],
   "source": [
    "#survival analysis\n",
    "sns.countplot(x=\"survived\", data=data)\n",
    "plt.xticks([0,1],[\"did not survive\", \"did survive\"])"
   ]
  },
  {
   "cell_type": "code",
   "execution_count": null,
   "id": "f2af6034",
   "metadata": {},
   "outputs": [],
   "source": [
    "\n",
    "plt.title(\"survival by gender\")\n",
    "sns.barplot(x=\"sex\",y=\"survived\",data=data)"
   ]
  },
  {
   "cell_type": "code",
   "execution_count": null,
   "id": "84f42e3e",
   "metadata": {},
   "outputs": [],
   "source": [
    "sns.barplot(x=\"class\",y=\"survived\",data=data)\n",
    "plt.title(\"survival by class\")"
   ]
  },
  {
   "cell_type": "code",
   "execution_count": null,
   "id": "95e2bfe2",
   "metadata": {},
   "outputs": [],
   "source": [
    "sns.violinplot(x='survived', y='age', data=data, palette='muted')\n",
    "plt.title('Age Distribution by Survival Status')\n",
    "plt.xticks([0,1], ['Did Not Survive', 'Survived'])\n",
    "plt.show()"
   ]
  },
  {
   "cell_type": "code",
   "execution_count": null,
   "id": "e2db02ff",
   "metadata": {},
   "outputs": [],
   "source": [
    "sns.barplot(x=\"class\",y=\"survived\",data=data, hue=\"sex\")\n",
    "plt.title(\"Survival by Gender and Class\")"
   ]
  },
  {
   "cell_type": "code",
   "execution_count": null,
   "id": "255f9b4b",
   "metadata": {},
   "outputs": [],
   "source": [
    "#ticket fare analysis\n",
    "\n",
    "sns.stripplot(x='class', y='fare', data=data, jitter=True, palette='Set1')\n",
    "plt.title('Fare Distribution by Class')\n",
    "plt.show()"
   ]
  },
  {
   "cell_type": "code",
   "execution_count": null,
   "id": "4d9b2a1e",
   "metadata": {},
   "outputs": [],
   "source": [
    "sns.stripplot(x=\"survived\",y=\"fare\",data=data,jitter=True,palette='Set1')\n",
    "plt.title(\"fare by survival\")\n",
    "plt.xticks([0, 1], ['Did Not Survive', 'Survived'])\n",
    "plt.show()"
   ]
  },
  {
   "cell_type": "code",
   "execution_count": null,
   "id": "1ea9b91a",
   "metadata": {},
   "outputs": [],
   "source": [
    "# Plot fare by class and survival\n",
    "sns.barplot(x='class', y='fare', hue='survived', data=data, palette='Set2')\n",
    "plt.title('Fare Distribution by Class and Survival Status')\n",
    "plt.show()"
   ]
  },
  {
   "cell_type": "code",
   "execution_count": null,
   "id": "2a57c85a",
   "metadata": {},
   "outputs": [],
   "source": [
    "numerical_data = data.select_dtypes(include=['float64', 'int64'])\n",
    "corr_matrix = numerical_data.corr()\n",
    "sns.heatmap(corr_matrix, annot=True,fmt=\".2f\")\n",
    "plt.title(\"Correlation Heatmap\")"
   ]
  },
  {
   "cell_type": "code",
   "execution_count": null,
   "id": "518684c2",
   "metadata": {},
   "outputs": [],
   "source": [
    "sns.pairplot(data,vars=['age',\"fare\",\"survived\"],hue='class',palette=\"Set2\")\n",
    "plt.title(\"pairwise plot\")\n"
   ]
  },
  {
   "cell_type": "code",
   "execution_count": null,
   "id": "cbd464d4",
   "metadata": {},
   "outputs": [],
   "source": [
    "sns.jointplot(x='age', y='fare', data=data, kind='scatter', hue='survived', palette='coolwarm')\n",
    "plt.suptitle('Relationship Between Age and Fare', y=1.02)\n",
    "plt.show()"
   ]
  },
  {
   "cell_type": "code",
   "execution_count": null,
   "id": "cb52ec7c",
   "metadata": {},
   "outputs": [],
   "source": [
    "sns.stripplot(x='sex', y='age', hue='survived', data=data, jitter=True, palette='coolwarm')\n",
    "plt.title('Age by Gender and Survival')\n",
    "plt.show()"
   ]
  },
  {
   "cell_type": "code",
   "execution_count": null,
   "id": "231153d9",
   "metadata": {},
   "outputs": [],
   "source": [
    "cross_tab = pd.crosstab(data['class'], data['survived'])\n",
    "sns.heatmap(cross_tab, annot=True, cmap='coolwarm', fmt='d')\n",
    "plt.title('Survival Count by Class')\n",
    "plt.show()"
   ]
  }
 ],
 "metadata": {
  "kernelspec": {
   "display_name": "Python 3",
   "language": "python",
   "name": "python3"
  },
  "language_info": {
   "codemirror_mode": {
    "name": "ipython",
    "version": 3
   },
   "file_extension": ".py",
   "mimetype": "text/x-python",
   "name": "python",
   "nbconvert_exporter": "python",
   "pygments_lexer": "ipython3",
   "version": "3.13.1"
  }
 },
 "nbformat": 4,
 "nbformat_minor": 5
}
